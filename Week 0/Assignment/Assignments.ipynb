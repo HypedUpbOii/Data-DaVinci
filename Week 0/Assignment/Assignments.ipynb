import time
import numpy as np
import matplotlib.pyplot as plt

# TODO 1: Load data from data_path and return it as a NumPy array of size Nx2
def load_data(data_path):
    with open(data_path, 'r') as file:
        data = [list(map(float, line.strip().split())) for line in file]
    return np.array(data)

# TODO 2.1: Initialize centers
def initialise_centers(data, K, init_centers=None):
    if init_centers is None:
        indices = np.random.choice(len(data), K, replace=False)
        return data[indices]
    return init_centers

# TODO 2.2: Initialize labels to all ones of size N
def initialise_labels(data):
    return np.ones(len(data), dtype=int)

# TODO 3.1: Calculate distances between data points and centers
def calculate_distances(data, centers):
    distances = np.zeros((len(data), len(centers)))
    for i, center in enumerate(centers):
        distances[:, i] = np.linalg.norm(data - center, axis=1)
    return distances

# TODO 3.2: Assign labels based on nearest center
def update_labels(distances):
    return np.argmin(distances, axis=1)

# TODO 4: Update centers based on the mean of assigned points
def update_centers(data, labels, K):
    centers = np.zeros((K, data.shape[1]))
    for i in range(K):
        points = data[labels == i]
        if len(points) > 0:
            centers[i] = np.mean(points, axis=0)
    return centers

# TODO 6: Check for convergence based on labels
def check_termination(labels1, labels2):
    return np.array_equal(labels1, labels2)

# K-means function (do not change)
def kmeans(data_path: str, K: int, init_centers):
    data = load_data(data_path)
    centers = initialise_centers(data, K, init_centers)
    labels = initialise_labels(data)

    start_time = time.time() # Time stamp

    while True:
        distances = calculate_distances(data, centers)
        labels_new = update_labels(distances)
        centers = update_centers(data, labels_new, K)
        if check_termination(labels, labels_new):
            break
        else:
            labels = labels_new

    end_time = time.time() # Time stamp after the algorithm ends
    return centers, labels, end_time - start_time

# TODO 7: Visualize the results
def visualise(data_path, labels, centers):
    data = load_data(data_path)

    # Scatter plot of the data points with different colors for different clusters
    for i in range(len(centers)):
        cluster_points = data[labels == i]
        plt.scatter(cluster_points[:, 0], cluster_points[:, 1], label=f'Cluster {i+1}')

    # Plot the centers
    plt.scatter(centers[:, 0], centers[:, 1], c='red', marker='x', s=100, label='Centers')

    # Add title and labels
    plt.title('K-means clustering')
    plt.xlabel('Longitude')
    plt.ylabel('Latitude')
    plt.legend()

    # Save the plot
    plt.savefig('kmeans.png')

    return plt

# Run the code
data_path = 'spice_locations.txt'
K, init_centers = 2, None
centers, labels, time_taken = kmeans(data_path, K, init_centers)
print('Time taken for the algorithm to converge:', time_taken)
visualise(data_path, labels, centers)

